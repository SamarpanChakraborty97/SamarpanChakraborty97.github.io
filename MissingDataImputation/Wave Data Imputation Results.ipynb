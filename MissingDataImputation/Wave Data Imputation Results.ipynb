{
 "cells": [
  {
   "cell_type": "markdown",
   "id": "2f9a5e93-fb07-4965-ace6-b6e036b6ed72",
   "metadata": {},
   "source": [
    "## This notebook is intended to display the comparisons between different models used in the missing wave data imputation studies."
   ]
  },
  {
   "cell_type": "markdown",
   "id": "5cccde17-445c-46ac-86a3-449c150f4e93",
   "metadata": {},
   "source": [
    "![imputationProcess](imputation_approach.jpg)"
   ]
  },
  {
   "cell_type": "markdown",
   "id": "002f0212-97e0-4986-ae7d-388a6b1ce50b",
   "metadata": {},
   "source": [
    "**The workflow of the missing data imputation process followed for the different experiments in this study. Observations obtained from three different buoys in different water depths have been used to create gaps of different lengths in time sequences. The peaks and troughs extracted from these sequences are used to obtain slowly varying amplitudes in the wave sequence through minimization of a cost function based on a wave model. The resultant amplitudes are then used for the missing data imputation either by using interpolation for the linear SSA model or extrapolation for the neural networks. A sample result of the missing data imputation process has been also depicted.**"
   ]
  },
  {
   "cell_type": "markdown",
   "id": "3ac2bed8-3c7b-4b87-8015-cecdd1edb102",
   "metadata": {},
   "source": [
    "- #### The wave data mimputation process for the Singular Spectrum Analysis (SSA) model is illustrated in [SSA](https://github.com/SamarpanChakraborty97/Missing-wave-data-imputation-/tree/main/Singular%20Spectrum%20Analysis). Readers can also check out this [article](https://www.sciencedirect.com/science/article/pii/S0029801824034838) for further details on this process."
   ]
  },
  {
   "cell_type": "markdown",
   "id": "a8a7f3c2-a84c-4d00-ad6b-530deb48c2c2",
   "metadata": {},
   "source": [
    "![1minute_results](1minute.jpg)"
   ]
  },
  {
   "cell_type": "markdown",
   "id": "cd77e1b2-2039-4673-9141-5e5ac5112bdd",
   "metadata": {},
   "source": [
    "- **Performance metrics for missing data imputation over 1.00 min for buoy measurements at [San Nicholas Island](https://cdip.ucsd.edu/m/products/?stn=067p1): MAE, MSE, and negative correlation scores for the various models (normalized for each metric) are provided here. Darker the boxes, better are the imputation results. Here, the baseline is computed for each of the cases as a single wave train whose amplitude is the mean of all the peaks in the data preceding the gap while the period is given by the mean of the time periods for the fitted preceding data.**\n",
    "- **It can be observed that the LSTM and the CNN + LSTM networks perform better than the SSA model in terms of all the metrics.**\n",
    "- **The CNN + LSTM network is also found to perform better than the LSTM model in both the error norms and is observed to outperform the baseline.**\n",
    "- **The relatively small fitting errors across all the metrics indicate the accuracy and reliability of the chosen wave model and validates its use in modelling sea surface elevations.**"
   ]
  },
  {
   "cell_type": "markdown",
   "id": "d8fb5acf-38a3-461e-b5cd-df7aca0f9afc",
   "metadata": {},
   "source": [
    "![Correlation](corr1minute.jpg)"
   ]
  },
  {
   "cell_type": "markdown",
   "id": "202619f5-7be9-4356-9eef-e389fed65311",
   "metadata": {},
   "source": [
    "- **True wave crests and troughs versus the imputed peak values for 5.00 min of missing data for the measurements from a buoy located near San Nicholas Island (water depth: 262m) from CDIP buoy data. The correlation coefficient (r) has been also included. (a): Imputation results using SSA. (b): Imputation results using the CNN + LSTM network. (c): Fit of the observed wave peaks using our wave model.**\n",
    "- **The frequency of observation of different wave elevation values increase as the color spectrum is shifted from blue to red in these plots.**\n",
    "- **It can be observed that more of the predictions for SSA depart farther from the x=y line when compared to the CNN + LSTM model, as depicted by the larger relative concentration of the reddish spectrum in the latter. Additionally, the CNN + LSTM imputations are found to have a higher correlation coefficient than the SSA results, signifying a better accuracy for the CNN + LSTM model compared to the SSA model for imputation of wave peaks over 5 minutes of missing data.**"
   ]
  },
  {
   "cell_type": "markdown",
   "id": "d644b14c-f463-4450-b5bc-c41d59efbdd6",
   "metadata": {},
   "source": [
    "![5minutes_buoys](5minutes_results.jpg)"
   ]
  },
  {
   "cell_type": "markdown",
   "id": "747ac79b-f4f8-4a8e-aaa6-10911f557e93",
   "metadata": {},
   "source": [
    "- **Performance metrics for missing data imputation over 1.00 min for buoy measurements using \n",
    ": MAE, MSE, and negative correlation scores for the various models (normalized for each metric) are provided here. Darker the boxes, better are the imputation results. (a): Results for [CDIP Buoy 071 (near Harvest, CA)](https://cdip.ucsd.edu/m/products/?stn=071p1) located in a depth of 550.00 m. (b): Results for [CDIP Buoy 076 (near Diablo Canyon, CA)](https://cdip.ucsd.edu/m/products/?stn=076p1&param=waveHs) located in a depth of 27.00 m. These experiments were intended to verify the universality and versatility of our wave data imputation process. The buoys chosen were located in different water depths and the wave fitting model used different regularization parameters $\\alpha$.**\n",
    "- **It is noted that the neural networks outperform the baseline and the SSA for imputation of missing entries over 1.00 min in the deep-water scenario. The CNN + LSTM model is found to outperform the other models in case (a), continuing the trend as with the previous set of observations. However, the observations in (b) differ from this trend. The LSTM model is found to have the best performance in this case in terms of the different error norms.**"
   ]
  },
  {
   "cell_type": "markdown",
   "id": "a00473a8-d925-4a3e-bafa-7d0b18b57dd4",
   "metadata": {},
   "source": [
    "***Additionally, as part of the efforts and to investigate if the methodology can be extended to larger waves in the missing portion of the time series, a sample window used for 5.00 min of missing data imputation using [CDIP Buoy 076](https://cdip.ucsd.edu/m/products/?stn=076p1&param=waveHs) is depicted here. This window entails a gap containing a wave peak significantly larger than the other waves in the trailing and leading portions of the time series data.*** "
   ]
  },
  {
   "cell_type": "markdown",
   "id": "77158a58-fa2e-47c6-bbc8-28fdac5c056f",
   "metadata": {},
   "source": [
    "![high wave](high_wave.jpg)"
   ]
  },
  {
   "cell_type": "markdown",
   "id": "047768cb-924b-4c24-8f16-70911a04212b",
   "metadata": {},
   "source": [
    "![Results_high_wave](high_wave_results.jpg)"
   ]
  },
  {
   "cell_type": "markdown",
   "id": "8cc6a778-d86e-427d-a586-47d591d6934b",
   "metadata": {},
   "source": [
    "**The results of missing data imputation using the different approaches over 5.00 min of this observation window has been provided here. The imputed peaks from the different models are plotted at the time instants of the true peaks for ease of comparison. The fit is found to show excellent agreement with the true peaks here. The non-linear CNN + LSTM model is found to do a very good job of capturing the highest wave peak in the data gap at index 47 (at around 14.00 min in the figure). Overall, it provides the most robust predictions over the entire window, followed by the LSTM model and is found to outperform the SSA method in capturing the highest peak within the data gap.**\n"
   ]
  },
  {
   "cell_type": "markdown",
   "id": "ced62138-f15b-4036-8cc4-db065b469cd0",
   "metadata": {},
   "source": [
    "**For further illustrations, readers can check out this [article](https://www.sciencedirect.com/science/article/pii/S0029801824034838) for results of the wave data imputation studies.**"
   ]
  },
  {
   "cell_type": "code",
   "execution_count": null,
   "id": "9954244e-cf7c-4a81-983d-6c5eafc8bbe7",
   "metadata": {},
   "outputs": [],
   "source": []
  }
 ],
 "metadata": {
  "kernelspec": {
   "display_name": "Python (myenv)",
   "language": "python",
   "name": "myenv"
  },
  "language_info": {
   "codemirror_mode": {
    "name": "ipython",
    "version": 3
   },
   "file_extension": ".py",
   "mimetype": "text/x-python",
   "name": "python",
   "nbconvert_exporter": "python",
   "pygments_lexer": "ipython3",
   "version": "3.9.19"
  }
 },
 "nbformat": 4,
 "nbformat_minor": 5
}
