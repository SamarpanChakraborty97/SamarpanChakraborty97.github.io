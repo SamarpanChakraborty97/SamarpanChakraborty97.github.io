{
 "cells": [
  {
   "cell_type": "markdown",
   "metadata": {},
   "source": [
    "## This notebook is intended to display the results of rogue wave forecasting by segregating the rogue waves on the basis of their magnitudes."
   ]
  },
  {
   "cell_type": "markdown",
   "metadata": {},
   "source": [
    "<div style=\"text-align: center;\">\n",
    "  <img src=\"hokusai_wave.jpg\" width=\"600\"; height=\"300\">\n",
    "</div>\n",
    "\n",
    "[Source](https://www.nature.com/articles/nphys2746)\n",
    "\n",
    "**A well-known drawing of a rogue wave by Japanese artist Hokusai. Rogue waves have been in existence since a long time, but it was only recently, that attention has been given to study rogue waves. The results in this notebook present a novel effort to utilize graph neural networks in the forecasting of rogue waves.**"
   ]
  },
  {
   "cell_type": "markdown",
   "metadata": {},
   "source": [
    "- **Extreme waves are waves that are significantly larger than the preceding and subsequent waves. Although the occurrence of these events have a low probability of occurrence, the  impact of these waves can nevertheless be devastating causing serious damage to ships, offshore structures, and people on board them.**\n",
    "- **These extreme waves are also called *freak* or *rogue* waves and can be loosely defined as waves that are significantly higher than the surrounding waves.**\n",
    "- **A more precise definition can be stated by relating a local wave height measure, either the wave height $H$ (from trough to crest) or the crest height $\\eta_c$ to the   significant wave height $H_s$. Therein, the significant wave height, which is defined as four times the standard deviation of the sea surface elevation, provides a measure for the average wave height. If the wave height $H$ exceeds the significant wave height by a factor of 2.0 (or alternatively 2.2), then the corresponding wave is a rogue wave. An alternative definition requires the crest height $\\eta_c$ to exceed the significant wave height $H_s$ by a factor of 1.25.**"
   ]
  },
  {
   "cell_type": "markdown",
   "metadata": {},
   "source": [
    "### Training results for graph neural networks"
   ]
  },
  {
   "cell_type": "markdown",
   "metadata": {},
   "source": [
    "<div style=\"text-align: center;\">\n",
    "  <img src=\"training_gcn.jpg\" width=\"800\"; height=\"400\">\n",
    "</div>\n",
    "\n",
    "\n",
    "**The loss and accuracy curves for the training of a graph isomorphism network that was used for rogue wave classification tasks.**"
   ]
  },
  {
   "cell_type": "markdown",
   "metadata": {},
   "source": [
    "### Hyperparameter tuning for the networks"
   ]
  },
  {
   "cell_type": "markdown",
   "metadata": {},
   "source": [
    "<table>\n",
    "    <tr>\n",
    "        <td><img src = \"gin_hyp.jpg\" width=\"400\"> </td>\n",
    "        <td><img src = \"gcn_hyp.jpg\" width=\"400\"> </td>\n",
    "    </tr>\n",
    "</table>\n",
    "\n",
    "***Hyperparameter tuning was carried out for both the models to arrive at the most optimized set of models that were utilized for all the rogue wave classification experiments. The optimal set of parameters are highlighted in color.***"
   ]
  },
  {
   "cell_type": "markdown",
   "metadata": {},
   "source": [
    "### Results for the highest rogue waves"
   ]
  },
  {
   "cell_type": "markdown",
   "metadata": {},
   "source": [
    "**Out of the 4 segments in which we have divided our rogue wave data, focus was given to the portion containing the highest rogue waves, since this set of rogue waves pose the most danger to maritime traffic and offshore structures. The forecast horizon $t_{advance}$ is taken as 5 minutes and $t_{training}$ is taken to be 15 minutes for this set of visualizations.**"
   ]
  },
  {
   "cell_type": "markdown",
   "metadata": {},
   "source": [
    "<table>\n",
    "    <tr>\n",
    "        <td><img src = \"Accuracies for different model architectures.png\" width=\"450\"> </td>\n",
    "        <td><img src = \"Accuracies for different graph models2.png\" width=\"450\"> </td>\n",
    "    </tr>\n",
    "</table>\n",
    "\n",
    "- **It is observed that the best results are obtained using the Graph Isomorphism networks.**\n",
    "- **Other models like LSTM, Bi-LSTM and transformers were also investigated for this classification.**\n",
    "- **Using Principal component analysis (PCA) for the graph neural networks resulted in lowered accuracies, however the associated computational times were reduced many-fold.**"
   ]
  }
 ],
 "metadata": {
  "kernelspec": {
   "display_name": "Python (myenv)",
   "language": "python",
   "name": "myenv"
  },
  "language_info": {
   "codemirror_mode": {
    "name": "ipython",
    "version": 3
   },
   "file_extension": ".py",
   "mimetype": "text/x-python",
   "name": "python",
   "nbconvert_exporter": "python",
   "pygments_lexer": "ipython3",
   "version": "3.9.19"
  }
 },
 "nbformat": 4,
 "nbformat_minor": 4
}
