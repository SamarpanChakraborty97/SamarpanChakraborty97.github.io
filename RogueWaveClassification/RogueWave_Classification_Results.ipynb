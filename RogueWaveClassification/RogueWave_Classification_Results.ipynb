{
 "cells": [
  {
   "cell_type": "markdown",
   "id": "32a587ab-2f0f-4f9b-8920-1f894dc7b3c4",
   "metadata": {},
   "source": [
    "## This notebook is intended to display the rogue wave classification results using the different architectures in different classification and ocean scenarios."
   ]
  },
  {
   "attachments": {},
   "cell_type": "markdown",
   "id": "9daaf001-4453-4f06-82c0-d12b789a9763",
   "metadata": {},
   "source": [
    "<div style=\"text-align: center;\">\n",
    "  <img src=\"ocean_waves.jpg\" width=\"600\">\n",
    "</div>\n",
    "\n",
    "[Source](https://oceanographicmagazine.com/news/rogue-wave-off-canada/)\n",
    "\n",
    "- **Extreme waves are waves that are significantly larger than the preceding and subsequent waves. Although the occurrence of these events have a low probability of occurrence, the  impact of these waves can nevertheless be devastating causing serious damage to ships, offshore structures, and people on board them.**\n",
    "- **These extreme waves are also called *freak* or *rogue* waves and can be loosely defined as waves that are significantly higher than the surrounding waves.**\n",
    "- **A more precise definition can be stated by relating a local wave height measure, either the wave height $H$ (from trough to crest) or the crest height $\\eta_c$ to the   significant wave height $H_s$. Therein, the significant wave height, which is defined as four times the standard deviation of the sea surface elevation, provides a measure for the average wave height. If the wave height $H$ exceeds the significant wave height by a factor of 2.0 (or alternatively 2.2), then the corresponding wave is a rogue wave. An alternative definition requires the crest height $\\eta_c$ to exceed the significant wave height $H_s$ by a factor of 1.25.**"
   ]
  },
  {
   "cell_type": "markdown",
   "id": "ee25a8f1-59ae-49fb-b1ec-078a39e93b0b",
   "metadata": {},
   "source": [
    "**The forecasting of rogue waves is undertaken by designing the task as follows.**"
   ]
  },
  {
   "cell_type": "markdown",
   "id": "c33b711e-bce7-474a-916a-581007a95b12",
   "metadata": {},
   "source": [
    "- **Given a window of time series data extracted from a buoy, the purpose of the task is to predict whether there will be a rogue wave within some fixed time horizon. The training data is prepared such that there are equal proportions of wave data windows leading to a rogue wave in the horizon and those that do not lead up to a rogue wave in the horizon.**\n",
    "- **The training input is thus each such data window, while the output is determined by the presence or absence of a rogue wave at the end of the fixed forecasting horizon.**\n",
    "- **Experiments have been carried out to observe the effect of both the length of the training data window as well as the forecast horiron used in this training process on the rogue wave forecasting accuracy of the trained neural network models.**  "
   ]
  },
  {
   "cell_type": "markdown",
   "id": "9392fd9d-287a-49d2-a3c6-001ae9d6e7eb",
   "metadata": {},
   "source": [
    "**An overview of the data window used and the subsequent rogue wave to be forecast is displayed through the illustration here. The forecast horizon $t_{horizon}$ is varied between 3,5 and 10 minutes and the length of the trainign window $t_{window}$ is varied between 15 and 20 minutes to investigate their respective effects on the rogue wave forecasting accuracy.**\n",
    "\n",
    "<div style=\"text-align: center;\">\n",
    "  <img src=\"Slide3.JPG\" width=\"600\">\n",
    "</div>"
   ]
  },
  {
   "cell_type": "markdown",
   "id": "8dde38ab-7059-4646-8ba2-44f46483a646",
   "metadata": {},
   "source": [
    "### Initially, experiments have been carried out using all the different ML architectures to forecast rogue waves over a horizon $t_{advance}$ spanning from 0 minutes to 10 minutes using a data window $t_{training}$ of 15 minutes to train the ML models."
   ]
  },
  {
   "cell_type": "markdown",
   "id": "3740a641-3f70-4d6c-8cb6-6b2bd38e2272",
   "metadata": {},
   "source": [
    "<table>\n",
    "  <tr>\n",
    "    <td><img src = \"Confusion_matrix_RWs_H_g_2_tadv_5min_0.5_scce_.png\" width=\"400\"> </td>\n",
    "    <td><img src = \"svm_RWs_H_g_2_tadv_5min_rw_smallWindow_0.5.jpg\" width=\"400\"> </td>\n",
    "    <td><img src = \"dt_RWs_H_g_2_tadv_5min_rw_smallWindow_0.5.jpg\" width=\"400\"> </td>\n",
    "  </tr>\n",
    "</table>\n",
    "\n",
    "- **The confusion matrices for the rogue wave classification over $t_{advance}$=5 minutes are displayed here for the different ML architectures.**\n",
    "- **Number of training examples is around 252,000 and text examples is 68,000 for this dataset.**\n",
    "- ***From left to right, the confusion matrices are for LSTM, SVM and DT rogue wave classification on the test data respectively.***\n",
    "- ***It is observed that the best classification accuracies are observed for the models trained using LSTM architectures (67%).***\n",
    "- ***SVM results (64%) are similar to the LSTM model results, however, DT classifiers do not perform well (51%), pointing to the failure of DT classifiers to generalize on test data.***"
   ]
  },
  {
   "cell_type": "markdown",
   "id": "c041c536-207b-473b-b87c-6eb8fafcdf3d",
   "metadata": {},
   "source": [
    "<table>\n",
    "  <tr>\n",
    "    <td><img src = \"Best_accuracies.png\" width=\"600\"> </td>\n",
    "    <td><img src = \"Best_f1_scores.png\" width=\"600\"> </td>\n",
    "  </tr>\n",
    "</table>\n",
    "\n",
    "- **The best classification accuracies are observed when $rw_{prop}$=0.5.**\n",
    "- **The best classification accuracies observed for the different model architectures over the range of forecasting horizons is displayed here.**\n",
    "- ***It is observed that the LSTM model performs the best over the range of the forecasting horizons.***\n",
    "- ***The SVM classifier closely follows the LSTM model.***\n",
    "- ***However, the DT classifier does not perform well as the forecasting horizon increases.***\n",
    "- ***For all the model architectures, the classification accuracies diminish as the forecasting horizon increases.***"
   ]
  },
  {
   "cell_type": "markdown",
   "id": "33a12012-6c4c-4ca6-967d-6b3fee57f337",
   "metadata": {},
   "source": [
    "### Following this, experiments were carried out using all the different ML architectures to forecast rogue waves over horizon $t_{advance}$ spanning from 0 minutes to 10 minutes and increasing the data window $t_{training}$ to 20 minutes to train the ML models."
   ]
  },
  {
   "cell_type": "markdown",
   "id": "105f995a-07be-41f9-bee0-6f2b0208fc92",
   "metadata": {},
   "source": [
    "<div style=\"text-align: center;\">\n",
    "  <img src=\"Effect_of_training_window.png\" width=\"400\">\n",
    "</div>\n",
    "\n",
    "- **The classification accuracies observed for the different model architectures for a forecast horizon $t_{advance}$ of 5 minutes and using two different durations of the training window $t_{training}$ = {15, 20} minutes is displayed here.**\n",
    "- ***It is observed that the LSTM model performs the best for both the training window sizes.***\n",
    "- ***The SVM classifier closely follows the LSTM model.***\n",
    "- ***However, the accuracy of the DT classifier remains the same for both the training window sizes, signifying that the model might be too simple to capture the complexties of the data used here.***\n",
    "- ***For the LSTM and SVM models, the test classification accuracy increases as $t_{training}$ increases by 4% and 6% respectively.***"
   ]
  },
  {
   "cell_type": "markdown",
   "id": "f275cd5a-9e46-410b-8e25-098277e9f703",
   "metadata": {},
   "source": [
    "## To understand the applicability of this classification process in diverse and particularly, localized scenarios, rogue wave classification experiments were carried out using data obtained from buoys located within some miles away from each other. "
   ]
  },
  {
   "cell_type": "markdown",
   "id": "0d9b938a-8456-4953-97f4-32fece2349b1",
   "metadata": {},
   "source": [
    "### In the first case, a group of three buoys were chosen as given [here](all_water_buoys_with_distance_triangular_area.html). For this, the models were trained using data from $d_{1}$ and $d_{2}$ and the model was tested on classifying rogue waves from data obtained from $s_{1}$. $d_{1}$ and $d_{2}$ are buoys located in deep water while $s_{1}$ is a shallow water buoy."
   ]
  },
  {
   "cell_type": "markdown",
   "id": "201b36ca-cd7b-480d-93e8-d738c35184f5",
   "metadata": {},
   "source": [
    "<table>\n",
    "  <tr>\n",
    "    <td><img src = \"buoySystems_triangular_area\\3min\\Confusion_matrix_RWs_H_g_2_tadv_3min_0.5_scce_.png\" width=\"400\"> </td>\n",
    "    <td><img src = \"buoySystems_triangular_area/3min/confusion_matrices_svm/RWs_H_g_2_tadv_3min_triangular_area_rw_0.5.jpg\" width=\"400\"> </td>\n",
    "    <td><img src = \"buoySystems_triangular_area/3min/confusion_matrices_dt/RWs_H_g_2_tadv_3min_triangular_area_rw_0.5.jpg\" width=\"400\"> </td>\n",
    "  </tr>\n",
    "</table>\n",
    "\n",
    "- **The confusion matrices for the rogue wave classification over $t_{advance}$=5 minutes are displayed here for the different ML architectures.**\n",
    "- **Number of training examples is around 9900 and text examples is 7600 for this dataset.**\n",
    "- ***From left to right, the confusion matrices are for LSTM, SVM and DT rogue wave classification on the test data respectively.***\n",
    "- ***It is observed that the best classification accuracies are observed for the models trained using SVM architectures (64%).***\n",
    "- ***The SVM results are much better compared to the LSTM model results (55%) and DT classifiers (51%).***\n",
    "- ***This shows that the SVM model is better suited for cases compared to neural networks where there is a dearth of training examples. It can generalize better for unseen data in diverse locations. The DT, as observed previously, fails to generalize well for unseen data.***"
   ]
  },
  {
   "cell_type": "markdown",
   "id": "92cbc72e-b6ad-4d2e-a382-a5b959807df6",
   "metadata": {},
   "source": [
    "### In the second case, a group of five buoys were chosen as given [here](all_water_buoys_with_distance_localized.html). For this, the models were trained using data from $d_{1}$ to $d_{4}$ and the model was tested on classifying rogue waves from data obtained from $d_{5}$. $d_{5}$ is located closer to the shore while the other buoys are at more off-shore locations."
   ]
  },
  {
   "cell_type": "markdown",
   "id": "60bb7ec2-d389-431c-a06d-09aed259717c",
   "metadata": {},
   "source": [
    "<table>\n",
    "  <tr>\n",
    "    <td><img src = \"Results_github\\accuracies_intermediate buoys.png\" width=\"500\"> </td>\n",
    "    <td><img src = \"Results_github\\f1_scores_intermediate buoys.png\" width=\"500\"> </td>\n",
    "  </tr>\n",
    "</table>\n",
    "\n",
    "- **The classification accuracies and the rogue wave $F_{1}$ scores observed for the different model architectures for a training window $t_{training}$ = 15 minutes over the range of the forecasting horizons $t_{advance}$ is displayed here.**\n",
    "- **Number of training examples is around 8094 and text examples is 340 for this dataset.**\n",
    "- ***It is observed that the SVM model performs the best over the range of the forecasting horizon similar to the last case.***\n",
    "- ***However, the accuracy of the DT classifier remains the same for both the training window sizes, signifying that the model might be too simple to capture the complexties of the data used here.***\n",
    "- ***For the LSTM and SVM models, both the test classification accuracy and the $F_{1}$ score increases as $t_{training}$ increases.***\n",
    "- ***This further reiterates that the SVM model is better suited for cases with lower training examples compared to data-intensive neural networks. It can generalize better for unseen data in diverse locations. The DT, as observed previously, fails to generalize well for unseen data.***"
   ]
  },
  {
   "cell_type": "code",
   "execution_count": null,
   "id": "725c360b-72b8-4dd2-830d-0c170b29f296",
   "metadata": {},
   "outputs": [],
   "source": []
  }
 ],
 "metadata": {
  "kernelspec": {
   "display_name": "Python 3 (ipykernel)",
   "language": "python",
   "name": "python3"
  },
  "language_info": {
   "codemirror_mode": {
    "name": "ipython",
    "version": 3
   },
   "file_extension": ".py",
   "mimetype": "text/x-python",
   "name": "python",
   "nbconvert_exporter": "python",
   "pygments_lexer": "ipython3",
   "version": "3.11.7"
  }
 },
 "nbformat": 4,
 "nbformat_minor": 5
}
