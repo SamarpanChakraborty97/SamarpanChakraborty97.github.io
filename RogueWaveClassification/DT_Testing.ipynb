{
 "cells": [
  {
   "cell_type": "markdown",
   "id": "a5579a81-f962-4e5e-a4d3-5c205c42f471",
   "metadata": {},
   "source": [
    "## This module is used for testing the trained SVM model on the test data"
   ]
  },
  {
   "cell_type": "code",
   "execution_count": 1,
   "id": "47a7c700-c0c3-465a-99b9-5e47cac0f9f7",
   "metadata": {},
   "outputs": [],
   "source": [
    "import os\n",
    "import IPython\n",
    "import IPython.display\n",
    "import matplotlib.pyplot as plt\n",
    "import numpy as np\n",
    "from sklearn import svm\n",
    "import pickle\n",
    "import matplotlib.pyplot as plt\n",
    "import numpy as np\n",
    "from sklearn import metrics\n",
    "import seaborn as sns\n",
    "from sklearn.tree import DecisionTreeClassifier"
   ]
  },
  {
   "cell_type": "code",
   "execution_count": null,
   "id": "ba8da4e6-c31c-4e7e-8aeb-b273e337bce6",
   "metadata": {},
   "outputs": [],
   "source": [
    "batch_size=64\n",
    "relative_rw = [0.2, 0.3, 0.4, 0.5, 0.6 ,0.7, 0.8]\n",
    "test_accuracies = []\n",
    "for i in range(len(relative_rw)):\n",
    "    file_str = f\"RWs_H_g_2_tadv_5min_rw_{relative_rw[i]}\"\n",
    "    file_str_test = \"RWs_H_g_2_tadv_5min_rw_0.5\"\n",
    "\n",
    "    dt_save_name= os.getcwd() + \"/model_saves_dt\" + \"/\" +  \"/best_model_\" + file_str + \".pkl\"\n",
    "    metrics_save_name = os.getcwd() + \"/metric_saves_dt\" + \"/\" + file_str + \".txt\"\n",
    "\n",
    "    data_test = np.load(file_str_test+\".npz\")\n",
    "\n",
    "    for vars in data_test:\n",
    "        print(vars)\n",
    "    \n",
    "    wave_data_train=data_test[\"wave_data_train\"]\n",
    "    wave_data_test=data_test[\"wave_data_test\"]\n",
    "    label_train=data_test[\"label_train\"]\n",
    "    label_test=data_test[\"label_test\"]\n",
    "\n",
    "    print(wave_data_train.shape)\n",
    "    print(wave_data_test.shape)\n",
    "\n",
    "    x_test = wave_data_test.reshape((wave_data_test.shape[0], wave_data_test.shape[1] * wave_data_test.shape[2]))\n",
    "\n",
    "    clf = DecisionTreeClassifier(random_state = 0)\n",
    "\n",
    "    with open(dt_save_name,'rb') as f:\n",
    "        clf = pickle.load(f)\n",
    "    \n",
    "    label_pred = clf.predict(x_test)\n",
    "\n",
    "    confusion_matrix = metrics.confusion_matrix(label_test, label_pred)\n",
    "    print('Confusion matrix')\n",
    "    print(confusion_matrix)\n",
    "    print('---------------')\n",
    "    print('Precision:', metrics.precision_score(label_test, label_pred))\n",
    "    print('Recall:', metrics.recall_score(label_test, label_pred))\n",
    "    print('F1 Score:', metrics.f1_score(label_test, label_pred))\n",
    "\n",
    "    lines = ['Confusion matrix\\n', f\"{confusion_matrix}\\n\", \"---------------\\n\", \n",
    "             f\" Precision:, {metrics.precision_score(label_test, label_pred)}\\n\", \n",
    "             f\" Recall:, {metrics.recall_score(label_test, label_pred)}\\n\",         \n",
    "             f\" F1 Score:, {metrics.f1_score(label_test, label_pred)}\\n\"]\n",
    "    \n",
    "    with open(metrics_save_name, \"w\") as f:\n",
    "        f.writelines(lines)\n",
    "    \n",
    "    group_names = ['Correctly predicted','Incorrectly predicted', 'Incorrectly predicted','Correctly predicted']\n",
    "    group_counts = [\"{0:0.0f}\".format(value) for value in\n",
    "                    confusion_matrix.flatten()]\n",
    "    group_percentages = [\"{0:.2%}\".format(value) for value in\n",
    "                            confusion_matrix.flatten()/np.sum(confusion_matrix)]\n",
    "    labels = [f\"{v1}\\n{v2}\\n{v3}\" for v1, v2, v3 in\n",
    "                zip(group_names,group_counts,group_percentages)]\n",
    "    labels = np.asarray(labels).reshape(2,2)\n",
    "    yaxislabels = ['Rogue waves absent','Rogue waves present']\n",
    "    xaxislabels = ['Predicted as absent','Predicted as present']\n",
    "    plt.figure(figsize=[6,6])\n",
    "    s = sns.heatmap(confusion_matrix, annot=labels, yticklabels=yaxislabels, xticklabels=xaxislabels, fmt='', cmap='Blues')\n",
    "    s.set_xlabel(\"Predicted label\", fontsize = 10)\n",
    "    s.set_ylabel(\"True label\", fontsize=10)\n",
    "    filename=os.getcwd()+'/confusion_matrices_dt'+'/'+file_str+'.jpg'\n",
    "    plt.savefig(filename,dpi=199)"
   ]
  },
  {
   "cell_type": "markdown",
   "id": "ac1c53be-9ec1-479b-abe3-7af888659688",
   "metadata": {},
   "source": [
    "**The same file can be used for testing of the trained DT models for the different scenarios.**"
   ]
  },
  {
   "cell_type": "markdown",
   "id": "2cca6f75-3337-4fb6-b6c5-350678f25dd8",
   "metadata": {},
   "source": [
    "### **Sample correlation matrices for the forecasting process of the DT model using different proportions of rogue wave samples in the training process is provided here.**\n",
    "\n",
    "<table>\n",
    "  <tr>\n",
    "    <td><img src = \"lw_dt_RWs_H_g_2_tadv_5min_rw_0.4.jpg\" width=\"400\"> </td>\n",
    "    <td><img src = \"lw_dt_RWs_H_g_2_tadv_5min_rw_0.5.jpg\" width=\"400\"> </td>\n",
    "    <td><img src = \"lw_dt_RWs_H_g_2_tadv_5min_rw_0.6.jpg\" width=\"400\"> </td>\n",
    "  </tr>\n",
    "</table>\n",
    "\n",
    "- **The correlation matrix plots here display the rogue forecasting efficiency for the DT model in a specific scenario where $t_{advance}$=5 minutes and $t_{training}$=20 minutes.**\n",
    "- **The plots represent the forecasting results when different proportions of rogue wave windows are utilized in the training process.**\n",
    "- **It can be observed that as the proportions of rogue wave examples in the training data increases($rw_{prop}$=0.6), better predictions can be attained for the rogue wave instances. However, the trained model in this case does not perform well for non rogue-wave instances. For lower proportions($rw_{prop}$=0.4), better predictions are observed for the non rogue-wave instances.**\n",
    "- **The best overall accuracy is thus, observed for equal proportions of rogue wave and non rogue-wave instances in the training process (51%). However, if prediction of rogue waves is more crtical, we can opt for a model trained with larger number of rogue wave training examples.**"
   ]
  },
  {
   "cell_type": "code",
   "execution_count": null,
   "id": "eea520d9-268e-4508-a647-9d9b896ce0b2",
   "metadata": {},
   "outputs": [],
   "source": []
  }
 ],
 "metadata": {
  "kernelspec": {
   "display_name": "Python 3 (ipykernel)",
   "language": "python",
   "name": "python3"
  },
  "language_info": {
   "codemirror_mode": {
    "name": "ipython",
    "version": 3
   },
   "file_extension": ".py",
   "mimetype": "text/x-python",
   "name": "python",
   "nbconvert_exporter": "python",
   "pygments_lexer": "ipython3",
   "version": "3.11.7"
  }
 },
 "nbformat": 4,
 "nbformat_minor": 5
}
