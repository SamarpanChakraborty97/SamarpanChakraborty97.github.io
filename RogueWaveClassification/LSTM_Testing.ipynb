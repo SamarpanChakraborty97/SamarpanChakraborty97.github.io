{
 "cells": [
  {
   "cell_type": "markdown",
   "id": "a5579a81-f962-4e5e-a4d3-5c205c42f471",
   "metadata": {},
   "source": [
    "## This module is used for testing the trained LSTM model on the test data"
   ]
  },
  {
   "cell_type": "code",
   "execution_count": 1,
   "id": "47a7c700-c0c3-465a-99b9-5e47cac0f9f7",
   "metadata": {},
   "outputs": [],
   "source": [
    "import os\n",
    "import IPython\n",
    "import IPython.display\n",
    "import matplotlib.pyplot as plt\n",
    "import numpy as np\n",
    "from tensorflow import keras\n",
    "import tensorflow as tf"
   ]
  },
  {
   "cell_type": "code",
   "execution_count": null,
   "id": "ba8da4e6-c31c-4e7e-8aeb-b273e337bce6",
   "metadata": {},
   "outputs": [],
   "source": [
    "batch_size=64\n",
    "relative_rw = [0.2, 0.3, 0.4, 0.5, 0.6 ,0.7, 0.8]\n",
    "test_accuracies = []\n",
    "for i in range(len(relative_rw)):\n",
    "    file_str = f\"RWs_H_g_2_tadv_5min_rw_{relative_rw[i]}\"\n",
    "    file_str_test = \"RWs_H_g_2_tadv_5min_rw_0.5\"\n",
    "\n",
    "    data_test = np.load(file_str_test+\".npz\")\n",
    "    \n",
    "    LSTM_save_name = os.getcwd()+ \"/model_saves\" + \"/best_LSTM_\"+file_str +\"checkpoint.model.keras\"\n",
    "\n",
    "    for vars in data_test:\n",
    "        print(vars)\n",
    "    \n",
    "    wave_data_train=data_test[\"wave_data_train\"]\n",
    "    wave_data_test=data_test[\"wave_data_test\"]\n",
    "    label_train=data_test[\"label_train\"]\n",
    "    label_test=data_test[\"label_test\"]\n",
    "    num_classes=2\n",
    "\n",
    "    print(wave_data_train.shape)\n",
    "    print(wave_data_test.shape)\n",
    "\n",
    "    model_LSTM = keras.Sequential()\n",
    "    model_LSTM.add(keras.layers.LSTM(10, input_shape = wave_data_train.shape[1:], return_sequences=True))\n",
    "    model_LSTM.add(keras.layers.BatchNormalization())\n",
    "\n",
    "\n",
    "    model_LSTM.add(keras.layers.LSTM(10, return_sequences=True)) #, return_sequences=True\n",
    "    model_LSTM.add(keras.layers.BatchNormalization())\n",
    "\n",
    "\n",
    "    model_LSTM.add(keras.layers.LSTM(10, return_sequences=True))#, return_sequences=True\n",
    "    model_LSTM.add(keras.layers.BatchNormalization())\n",
    "\n",
    "\n",
    "    model_LSTM.add(keras.layers.LSTM(10))\n",
    "    model_LSTM.add(keras.layers.BatchNormalization())\n",
    "    model_LSTM.add(keras.layers.Dropout(0.05))\n",
    "    model_LSTM.add(keras.layers.Dense(num_classes, activation=\"sigmoid\"))#\n",
    "\n",
    "\n",
    "    model_LSTM.compile(loss=\"sparse_categorical_crossentropy\",\n",
    "                metrics=[\"sparse_categorical_accuracy\"],\n",
    "                optimizer=\"adam\")\n",
    "\n",
    "    print(model_LSTM.summary())\n",
    "\n",
    "    model_LSTM = keras.models.load_model(LSTM_save_name)\n",
    "    test_loss, test_acc = model_LSTM.evaluate(wave_data_test, label_test)\n",
    "    preds_model = model_LSTM.predict(wave_data_test)\n",
    "\n",
    "    print(\"Test accuracy\", test_acc)\n",
    "    print(\"Test loss\", test_loss)\n",
    "\n",
    "    test_accuracies.append(test_acc)\n",
    "    np.savetxt(f\"RWs_H_g_2_tadv_5min_rw_{relative_rw[i]}_scce_predictions.csv\", np.asarray(preds_model), delimiter = \",\")\n",
    "    np.savetxt(f\"RWs_H_g_2_tadv_5min_rw_{relative_rw[i]}_scce_labels.csv\", np.asarray(label_test), delimiter = \",\")\n",
    "    \n",
    "np.savetxt('Test_accuracies_RWs_H_g_2_tadv_5min_scce.csv', np.asarray(test_accuracies), delimiter = \",\")"
   ]
  },
  {
   "cell_type": "markdown",
   "id": "981bd92a-0882-458a-a7b6-08f50fd080fc",
   "metadata": {},
   "source": [
    "**The same file can be used for testing of the trained LSTM models for the different scenarios.**"
   ]
  },
  {
   "cell_type": "code",
   "execution_count": null,
   "id": "1aa9065f-bbbc-48c4-a30d-3d9b15f75692",
   "metadata": {},
   "outputs": [],
   "source": [
    "relative_rw = [0.2, 0.3, 0.4, 0.5, 0.6 ,0.7, 0.8]\n",
    "for i in range(len(relative_rw)):\n",
    "    file_str = f\"RWs_H_g_2_tadv_5min_rw_{relative_rw[i]}_scce_\"\n",
    "    actual_labels = np.asarray(pd.read_csv(file_str + \"labels.csv\",header=None))\n",
    "    predictions = np.asarray(pd.read_csv(file_str + \"predictions.csv\",header=None))\n",
    "    predicted_labels = np.argmax(predictions, axis=1)\n",
    "\n",
    "    confusion_matrix = metrics.confusion_matrix(actual_labels, predicted_labels)\n",
    "\n",
    "    group_names = ['Correctly predicted','Incorrectly predicted',\\\n",
    "                   'Incorrectly predicted','Correctly predicted']\n",
    "    group_counts = [\"{0:0.0f}\".format(value) for value in\n",
    "                    confusion_matrix.flatten()]\n",
    "    group_percentages = [\"{0:.2%}\".format(value) for value in\n",
    "                         confusion_matrix.flatten()/np.sum(confusion_matrix)]\n",
    "    labels = [f\"{v1}\\n{v2}\\n{v3}\" for v1, v2, v3 in\n",
    "              zip(group_names,group_counts,group_percentages)]\n",
    "    labels = np.asarray(labels).reshape(2,2)\n",
    "    yaxislabels = ['Rogue waves absent','Rogue waves present']\n",
    "    xaxislabels = ['Predicted as absent','Predicted as present']\n",
    "    plt.figure(figsize=[6,6])\n",
    "    s = sns.heatmap(confusion_matrix, annot=labels, yticklabels=yaxislabels, xticklabels=xaxislabels, fmt='', cmap='Blues')\n",
    "    s.set_xlabel(\"Predicted label\", fontsize = 10)\n",
    "    s.set_ylabel(\"True label\", fontsize=10)\n",
    "    plt.savefig(f\"Confusion_matrix_RWs_H_g_2_tadv_5min_{relative_rw[i]}_.png\", dpi=300)"
   ]
  },
  {
   "cell_type": "markdown",
   "id": "2cca6f75-3337-4fb6-b6c5-350678f25dd8",
   "metadata": {},
   "source": [
    "**Sample confusion matrices for the forecasting process of the LSTM model using different proportions of rogue wave samples in the training process is provided here.**\n",
    "\n",
    "<table>\n",
    "  <tr>\n",
    "    <td><img src = \"lw_Confusion_matrix_RWs_H_g_2_tadv_5min_0.4_.png\" width=\"400\"> </td>\n",
    "    <td><img src = \"lw_Confusion_matrix_RWs_H_g_2_tadv_5min_0.5_.png\" width=\"400\"> </td>\n",
    "    <td><img src = \"lw_Confusion_matrix_RWs_H_g_2_tadv_5min_0.6_.png\" width=\"400\"> </td>\n",
    "  </tr>\n",
    "</table>\n",
    "\n",
    "- **The correlation matrix plots here display the rogue forecasting efficiency for the LSTM model in a specific scenario where $t_{advance}$=5 minutes and $t_{training}$=20 minutes.**\n",
    "- **The plots represent the forecasting results when different proportions of rogue wave windows are utilized in the training process.**\n",
    "- **It can be observed that as the proportions of rogue wave examples in the training data increases($rw_{prop}$=0.6), better predictions can be attained for the rogue wave instances. However, the trained model in this case does not perform well for non rogue-wave instances. For lower proportions($rw_{prop}$=0.4), better predictions are observed for the non rogue-wave instances.**\n",
    "- **The best overall accuracy is thus, observed for equal proportions of rogue wave and non rogue-wave instances in the training process (70%). However, if prediction of rogue waves is more crtical, we can opt for a model trained with larger number of rogue wave training examples.**"
   ]
  },
  {
   "cell_type": "code",
   "execution_count": null,
   "id": "eea520d9-268e-4508-a647-9d9b896ce0b2",
   "metadata": {},
   "outputs": [],
   "source": []
  }
 ],
 "metadata": {
  "kernelspec": {
   "display_name": "Python 3 (ipykernel)",
   "language": "python",
   "name": "python3"
  },
  "language_info": {
   "codemirror_mode": {
    "name": "ipython",
    "version": 3
   },
   "file_extension": ".py",
   "mimetype": "text/x-python",
   "name": "python",
   "nbconvert_exporter": "python",
   "pygments_lexer": "ipython3",
   "version": "3.11.7"
  }
 },
 "nbformat": 4,
 "nbformat_minor": 5
}
