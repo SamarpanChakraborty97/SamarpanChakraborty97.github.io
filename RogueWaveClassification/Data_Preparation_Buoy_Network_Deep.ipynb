{
 "cells": [
  {
   "cell_type": "markdown",
   "id": "ca8b16c9-79f5-4aa8-8d37-68ef245baf17",
   "metadata": {},
   "source": [
    "## This notebook is intended to prepare extracted buoy data from the [CDIP website](https://cdip.ucsd.edu/) for a rogue wave forecasting task for buoys located in deep water."
   ]
  },
  {
   "cell_type": "markdown",
   "id": "79dc0199-8f58-42bd-9b95-0ccdc25c4544",
   "metadata": {},
   "source": [
    "### The required libraries are imported here."
   ]
  },
  {
   "cell_type": "code",
   "execution_count": 1,
   "id": "ec83fb1a-4755-4aac-8f2d-65e7b60b78d8",
   "metadata": {},
   "outputs": [],
   "source": [
    "import os\n",
    "import IPython\n",
    "import IPython.display\n",
    "import matplotlib as mpl\n",
    "import matplotlib.pyplot as plt\n",
    "import numpy as np\n",
    "import time\n",
    "import math\n",
    "from tensorflow import keras\n",
    "import seaborn as sns\n",
    "import random\n",
    "import tensorflow as tf\n",
    "from sklearn.metrics import confusion_matrix\n",
    "from IPython.display import FileLink, FileLinks"
   ]
  },
  {
   "cell_type": "markdown",
   "id": "14d2481b-539d-4f41-a3dc-7beb6f669ffd",
   "metadata": {},
   "source": [
    "- **A function to extract the wave heights and their respective indices in a given time series window. This is based on finding the zero-crossing incidents in the time window. Finally, the largest of the wave peaks in the window is found out.**\n",
    "- **This is done to process the data in a manner such that the wave index is known where the maximum wave height is acheived and the data window can be slided accordingly to fit our neural network training process.**"
   ]
  },
  {
   "cell_type": "markdown",
   "id": "5afa1dd0-191a-444d-9854-d4f31c4fa657",
   "metadata": {},
   "source": [
    "**For feeding as input for the training of neural networks, the wave heights are standardized to values between -1 and 1**.\n",
    "**A sample data window is displayed here.**\n",
    "![random wave window](random_wave_window_manyOne.jpg)"
   ]
  },
  {
   "cell_type": "code",
   "execution_count": 2,
   "id": "934f5c51-7c5f-4990-bc94-81f1f9188407",
   "metadata": {},
   "outputs": [],
   "source": [
    "def find_max_wave_height(zdisp_window):\n",
    "    zero_crossings = np.where(np.diff(np.sign(zdisp_window)))[0]\n",
    "    zero_crossings= np.append(zero_crossings, len(zdisp_window)-1);\n",
    "    zero_crossings= np.append(-1,zero_crossings)\n",
    "    h_wave=np.zeros(len(zero_crossings)-1)\n",
    "    t_wave=np.zeros(len(zero_crossings)-1)\n",
    "            \n",
    "    for iter_zero_crossing in range(len(zero_crossings)-1):\n",
    "        peak_idx=np.argmax(np.abs(zdisp_window[zero_crossings[iter_zero_crossing]+1:zero_crossings[iter_zero_crossing+1]+1]))\n",
    "        h_wave[iter_zero_crossing]=zdisp_window[zero_crossings[iter_zero_crossing]+1+peak_idx]\n",
    "        t_wave[iter_zero_crossing]=zero_crossings[iter_zero_crossing]+1+peak_idx\n",
    "                \n",
    "    max_wave_height=max(np.abs(np.diff(h_wave)))\n",
    "    max_index = int(t_wave[np.argmax(np.abs(np.diff(h_wave)))])\n",
    "    \n",
    "    return max_wave_height, max_index"
   ]
  },
  {
   "cell_type": "markdown",
   "id": "a839bf69-756c-4916-8ba7-fd903f4441f9",
   "metadata": {},
   "source": [
    "- **The objective of the rogue wave forecasting task is as follows.**\n",
    "- **Given a window of time series data extracted from a buoy, the purpose of the task is to predict whether there will be a rogue wave within some fixed time horizon. The training data is prepared such that there are equal proportions of wave data windows leading to a rogue wave in the horizon and those that do not lead up to a rogue wave in the horizon.**\n",
    "- **The training input is thus each such data window, while the output is determined by the presence or absence of a rogue wave at the end of the fixed forecasting horizon.**\n",
    "- **Experiments have been carried out to observe the effect of both the length of the training data window as well as the forecast horiron used in this training process on the rogue wave forecasting accuracy of the trained neural network models.**  "
   ]
  },
  {
   "cell_type": "markdown",
   "id": "9ea0f810-8501-4c87-b8ad-1ab191fedb51",
   "metadata": {},
   "source": [
    "**An overview of the data window used and the subsequent rogue wave to be forecast is displayed through the illustration here. The forecast horizon $t_{horizon}$ is varied between 3,5 and 10 minutes and the length of the trainign window $t_{window}$ is varied between 15 and 20 minutes to investigate their respective effects on the rogue wave forecasting accuracy.**\n",
    "![forecasting_illustration](Slide3.JPG)"
   ]
  },
  {
   "cell_type": "markdown",
   "id": "b5cc73b8-93f1-49b0-a958-05357deb37e4",
   "metadata": {},
   "source": [
    "**Functions are created below to prepare the data windows leading upto rogue waves and those not leading upto rogue waves separately. These will be utilized to train our neural networks.**"
   ]
  },
  {
   "cell_type": "code",
   "execution_count": 3,
   "id": "bb131278-c3c5-4e14-9cb0-3ff6b19d0069",
   "metadata": {},
   "outputs": [],
   "source": [
    "def populate_rw_arrays(dir, array, start_idx, end_idx):\n",
    "    for folder in os.listdir(dir):\n",
    "        print(\"Processing: \" + folder)\n",
    "        \n",
    "        start_time = time.time()\n",
    "        for file in os.listdir(dir+ \"/\" + folder):\n",
    "            if file.endswith(\".npz\"):\n",
    "                data=np.load(dir+\"/\"+ folder+\"/\"+file)\n",
    "                z_tmp=data['zdisp'][start_idx:end_idx]\n",
    "                significant_wave_height=4*np.std(data['zdisp'])#[start_idx:-1]\n",
    "                z_disp_rw.append(z_tmp/significant_wave_height)\n",
    "                #print(z_disp_rw[0].shape)\n",
    "        print(\"--- %s seconds ---\" % (time.time() - start_time))\n",
    "    return"
   ]
  },
  {
   "cell_type": "code",
   "execution_count": 4,
   "id": "e26a6953-b31e-4c66-9e40-e2455c7c8d78",
   "metadata": {},
   "outputs": [],
   "source": [
    "def populate_norw_arrays(dir, array, end_idx):\n",
    "    for folder in os.listdir(dir):\n",
    "        print(\"Processing: \" + folder)\n",
    "        \n",
    "        start_time = time.time()\n",
    "        for file in os.listdir(dir+ \"/\" + folder):\n",
    "            if file.endswith(\".npz\"):\n",
    "                data=np.load(dir+\"/\"+ folder+\"/\"+file)\n",
    "                z_tmp=data['zdisp_norw'][0:end_idx]\n",
    "                significant_wave_height=4*np.std(data['zdisp_norw'])#[start_idx:-1]\n",
    "                z_disp_norw.append(z_tmp/significant_wave_height)\n",
    "\n",
    "        print(\"--- %s seconds ---\" % (time.time() - start_time))\n",
    "    return          "
   ]
  },
  {
   "cell_type": "markdown",
   "id": "774a3659-d9cb-4c05-ba52-5e1845b4bc3f",
   "metadata": {},
   "source": [
    "**The wave arrays are being created here (the training and the test datasets alternately)**"
   ]
  },
  {
   "cell_type": "code",
   "execution_count": null,
   "id": "e72b6926-e4bd-4713-a17d-81f715f770fb",
   "metadata": {},
   "outputs": [],
   "source": [
    "# root_folder_rw = os.getcwd()+\"/buoy_network_g2_deep\"\n",
    "# root_folder_norw = os.getcwd()+\"/buoy_network_g2_deep\"\n",
    "root_folder_rw = os.getcwd()+\"/buoy_network_g2_deep_testing\"\n",
    "root_folder_norw = os.getcwd()+\"/buoy_network_g2_deep_testing\"\n",
    "\n",
    "window_start_min_rel_to_rw=-18\n",
    "window_length_in_min=15\n",
    "\n",
    "samplerate=1.28\n",
    "\n",
    "rw_idx=round(25*60*samplerate)\n",
    "start_idx=round((25+window_start_min_rel_to_rw)*60*samplerate)\n",
    "end_idx=start_idx+round(window_length_in_min*60*samplerate)\n",
    "\n",
    "rw_dir=root_folder_rw + '/rw_samples'\n",
    "z_disp_rw=[]  \n",
    "populate_rw_arrays(rw_dir, z_disp_rw, start_idx, end_idx)\n",
    "\n",
    "z_disp_norw=[]\n",
    "norw_dir=root_folder_norw + '/norw_samples'\n",
    "end_idx=end_idx-start_idx\n",
    "populate_norw_arrays(norw_dir, z_disp_norw, end_idx)"
   ]
  },
  {
   "cell_type": "code",
   "execution_count": null,
   "id": "5669bd84-88e2-4581-8836-f3cd54a115d0",
   "metadata": {},
   "outputs": [],
   "source": [
    "z_disp_rw=np.vstack(z_disp_rw)\n",
    "print(z_disp_rw.shape)\n",
    "\n",
    "z_disp_norw=np.vstack(z_disp_norw)\n",
    "\n",
    "print(z_disp_norw.shape)"
   ]
  },
  {
   "cell_type": "code",
   "execution_count": null,
   "id": "ae75c185-2f27-4dee-8b9f-37abfd3dd90a",
   "metadata": {},
   "outputs": [],
   "source": [
    "possible_total_waves = round(z_disp_rw.shape[0] + z_disp_norw.shape[0])\n",
    "print(f\"Total possible waves in our study: {possible_total_waves}\")"
   ]
  },
  {
   "cell_type": "markdown",
   "id": "390b5425-d3a1-4119-b2ad-0e41ecf3eaeb",
   "metadata": {},
   "source": [
    "### The training and the testing data arrays for the deep buoys here. \n",
    "- **Different datasets can be created by varying the $t_{horizon}$ and $t_{advance}$.**\n",
    "- **For this case, the training data is obtained from 4 buoys located in deep water while the testing data is obtained from another buoy not used during the training process.**"
   ]
  },
  {
   "cell_type": "code",
   "execution_count": null,
   "id": "ad055d27-0c1d-4c51-9d5c-3156f3feca19",
   "metadata": {},
   "outputs": [],
   "source": [
    "N_data=min([z_disp_rw.shape[0],z_disp_norw.shape[0]])\n",
    "relative_rw = [0.5]\n",
    "\n",
    "for i in range(len(relative_rw)):\n",
    "    ratio = relative_rw[i]\n",
    "    if ratio >= 0.5:\n",
    "        num_rw = z_disp_rw.shape[0]\n",
    "        num_norw = round(((1-ratio)/ratio) * num_rw)\n",
    "    else:\n",
    "        num_norw = z_disp_norw.shape[0]\n",
    "        num_rw = round((ratio / (1-ratio))*num_norw)\n",
    "\n",
    "    print(f\"The number of rogue wave samples in the case with relative rogue wave ratio {ratio} is {num_rw}.\")\n",
    "    print(f\"The number of non-rogue wave samples in the case with relative rogue wave ratio {ratio} is {num_norw}.\")\n",
    "    print(f\"The total number of wave samples in the case with relative rogue wave ratio {ratio} is {num_rw + num_norw}.\", end='\\n') \n",
    "        \n",
    "    z_disp_rw_altered = z_disp_rw[0:num_rw]\n",
    "    z_disp_norw_altered = z_disp_norw[0:num_norw]\n",
    "    \n",
    "    print(z_disp_rw_altered.shape)\n",
    "    print(z_disp_norw_altered.shape)\n",
    "    print('\\n')\n",
    "\n",
    "    N_plots=3\n",
    "    selected_samples=random.sample(range(0, len(z_disp_rw)), N_plots)\n",
    "\n",
    "    plt.figure()\n",
    "    for iter_plot in selected_samples:\n",
    "        print(iter_plot)\n",
    "        plt.plot(z_disp_rw[iter_plot,:], label='Sample '+str(iter_plot))\n",
    "\n",
    "    plt.legend(loc='best')    \n",
    "    plt.show()\n",
    "    plt.close()\n",
    "\n",
    "    wave_data=np.concatenate((z_disp_rw_altered, z_disp_norw_altered), axis=0)\n",
    "    labels=np.concatenate(( np.ones(len(z_disp_rw_altered)) , np.zeros(len(z_disp_norw_altered))),axis=0)\n",
    "\n",
    "    idx = np.random.permutation(len(wave_data))\n",
    "    wave_data = wave_data[idx]\n",
    "    labels=labels[idx]\n",
    "\n",
    "    #### CREATING THE TRAINING DATA ####\n",
    "\n",
    "    # wave_data_train=wave_data[0:round(0.8*len(wave_data))]\n",
    "    # wave_data_test=wave_data[round(0.8*len(wave_data))+1:]                                      \n",
    "\n",
    "    # label_train=labels[0:round(0.8*len(wave_data))]\n",
    "    # label_test=labels[round(0.8*len(wave_data))+1:]\n",
    "\n",
    "    #### CREATING THE TESTING DATA ####\n",
    "    \n",
    "    wave_data_train=wave_data[0:round(0*len(wave_data))]\n",
    "    wave_data_test=wave_data[round(0*len(wave_data))+1:]                                      \n",
    "\n",
    "    label_train=labels[0:round(0*len(wave_data))]\n",
    "    label_test=labels[round(0*len(wave_data))+1:]\n",
    "\n",
    "    wave_data_train = wave_data_train.reshape((wave_data_train.shape[0], wave_data_train.shape[1], 1))\n",
    "    wave_data_test = wave_data_test.reshape((wave_data_test.shape[0], wave_data_test.shape[1], 1))\n",
    "\n",
    "    num_classes=2\n",
    "\n",
    "    np.savez(os.getcwd()  +f'/DataPrepared/RWs_H_g_2_tadv_3min_deep_buoys_test_rw_{ratio}',wave_data_train=wave_data_train, wave_data_test=wave_data_test,label_train=label_train,label_test=label_test)"
   ]
  },
  {
   "cell_type": "markdown",
   "id": "95fff841-a6da-4892-a693-7d1e3d4420a3",
   "metadata": {},
   "source": [
    "- **The different buoys used here for the experiments are displayed [here](https://samarpanchakraborty97.github.io/all_water_buoys_with_distance.html). The deep water buoys are given by $d_{subscipt}$ and the shallow water buoys are given by $s_{subscipt}$. Testing is done using $d_{5}$. Training is done using data from buoys $d_{1}$ to $d_{4}$.**"
   ]
  },
  {
   "cell_type": "code",
   "execution_count": null,
   "id": "e27d53e2-194f-43d1-b729-5036e07dc503",
   "metadata": {},
   "outputs": [],
   "source": []
  }
 ],
 "metadata": {
  "kernelspec": {
   "display_name": "Python 3 (ipykernel)",
   "language": "python",
   "name": "python3"
  },
  "language_info": {
   "codemirror_mode": {
    "name": "ipython",
    "version": 3
   },
   "file_extension": ".py",
   "mimetype": "text/x-python",
   "name": "python",
   "nbconvert_exporter": "python",
   "pygments_lexer": "ipython3",
   "version": "3.11.7"
  }
 },
 "nbformat": 4,
 "nbformat_minor": 5
}
